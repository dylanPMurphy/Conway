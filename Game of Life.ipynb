{
 "cells": [
  {
   "cell_type": "code",
   "execution_count": 41,
   "id": "875fbec2",
   "metadata": {},
   "outputs": [],
   "source": [
    "import numpy as np\n",
    "import matplotlib.pyplot as plt\n",
    "from matplotlib import colors\n"
   ]
  },
  {
   "cell_type": "code",
   "execution_count": 42,
   "id": "458e13ef",
   "metadata": {},
   "outputs": [],
   "source": [
    "# We are going to start with a grid as a numpy array\n",
    "\n",
    "GRID_SIZE = 16\n",
    "\n",
    "field  = [[0]*GRID_SIZE]*GRID_SIZE\n",
    "\n",
    "\n"
   ]
  },
  {
   "cell_type": "code",
   "execution_count": 92,
   "id": "14c7e5cc",
   "metadata": {},
   "outputs": [],
   "source": [
    "# # Heres our base grid with no life\n",
    "# # We now must generate a grid, each cell will have a 30% chance to contain life\n",
    "# #np.random.choice([0, 1], size=(GRID_SIZE*GRID_SIZE), p=[.7, .3])\n",
    "# import time\n",
    "# import random\n",
    "# # milliseconds = int(round(time.time() * 1000))\n",
    "# for i in range(0,GRID_SIZE-1):\n",
    "#     for j in range(0,GRID_SIZE-1):\n",
    "#         field[i][j] = random.choices((0, 1), [.7, .3])\n",
    "        \n",
    "#         #print((i*(GRID_SIZE-1))+j)"
   ]
  },
  {
   "cell_type": "code",
   "execution_count": 93,
   "id": "39d23409",
   "metadata": {},
   "outputs": [],
   "source": [
    "def cellFate(field, row, col):\n",
    "    \n",
    "    count = 0\n",
    "    \n",
    "    for i in range(-1,2):\n",
    "        for j in range(-1,2):\n",
    "            if row+i is not None and col+j is not None:\n",
    "                if i == 0 and j == 0:\n",
    "                    pass\n",
    "                else:\n",
    "                    count += field[row+i][col+j]\n",
    "#     print(count)        \n",
    "    if field[row][col] == 1:\n",
    "\n",
    "        if count >= 2 and count < 4:\n",
    "            return 1\n",
    "        else:\n",
    "            return 0\n",
    "\n",
    "    else:\n",
    "        if count >= 3:\n",
    "            return 1\n",
    "        else: \n",
    "            return 0"
   ]
  },
  {
   "cell_type": "code",
   "execution_count": 94,
   "id": "6c162787",
   "metadata": {},
   "outputs": [],
   "source": [
    "def epoch(field):\n",
    "    for i in range(0,GRID_SIZE-1):\n",
    "        for j in range(0,GRID_SIZE-1):\n",
    "            field[i][j] = cellFate(field, i, j)\n",
    "    return field"
   ]
  },
  {
   "cell_type": "code",
   "execution_count": 95,
   "id": "fa84b40a",
   "metadata": {},
   "outputs": [],
   "source": [
    "def visualizeField(vField):\n",
    "    cmap = colors.ListedColormap(['darkcyan', 'violet'])\n",
    "    bounds = [0,1,GRID_SIZE]\n",
    "    norm = colors.BoundaryNorm(bounds, cmap.N)\n",
    "\n",
    "    fig, ax = plt.subplots()\n",
    "    ax.imshow(vField, cmap=cmap, norm=norm)\n",
    "\n",
    "    # draw gridlines\n",
    "    ax.grid(which='major', axis='both', linestyle='-', color='k', linewidth=1)\n",
    "    ax.set_xticks(np.arange(0, GRID_SIZE, 1));\n",
    "    ax.set_yticks(np.arange(0, GRID_SIZE, 1));\n",
    "\n",
    "    plt.show()"
   ]
  },
  {
   "cell_type": "code",
   "execution_count": 96,
   "id": "3d123044",
   "metadata": {},
   "outputs": [],
   "source": [
    "def print_field(field):\n",
    "    for row in field:\n",
    "        print(row)\n",
    "        "
   ]
  },
  {
   "cell_type": "code",
   "execution_count": 97,
   "id": "66c58c57",
   "metadata": {},
   "outputs": [],
   "source": [
    "NewField = [[0, 0, 0, 0, 0, 0, 0, 0, 0, 0, 0, 1, 0, 0, 0, 0],\n",
    "[1, 0, 0, 0, 0, 0, 0, 0, 0, 0, 0, 0, 0, 0, 0, 0],\n",
    "[0, 0, 0, 0, 0, 0, 0, 1, 0, 0, 0, 0, 0, 0, 0, 0],\n",
    "[0, 0, 0, 0, 0, 0, 1, 0, 0, 0, 0, 0, 1, 0, 1, 0],\n",
    "[0, 0, 0, 0, 0, 0, 1, 1, 0, 0, 0, 0, 1, 1, 1, 1],\n",
    "[0, 0, 0, 0, 0, 0, 0, 0, 0, 0, 0, 0, 0, 0, 1, 0],\n",
    "[0, 0, 0, 0, 0, 0, 0, 0, 0, 0, 0, 0, 1, 1, 0, 0],\n",
    "[0, 0, 0, 0, 0, 0, 1, 0, 1, 0, 0, 0, 1, 0, 0, 0],\n",
    "[0, 0, 0, 0, 0, 0, 0, 0, 1, 0, 0, 0, 0, 0, 0, 0],\n",
    "[0, 0, 0, 0, 1, 0, 0, 1, 0, 0, 0, 0, 0, 0, 0, 0],\n",
    "[0, 0, 0, 0, 0, 0, 0, 0, 0, 0, 0, 0, 0, 0, 0, 0],\n",
    "[0, 0, 0, 0, 0, 1, 0, 0, 0, 0, 0, 1, 1, 0, 0, 0],\n",
    "[0, 0, 0, 0, 0, 0, 0, 0, 0, 0, 0, 0, 0, 0, 0, 0],\n",
    "[0, 0, 0, 0, 1, 0, 0, 0, 0, 0, 0, 0, 1, 0, 0, 0],\n",
    "[0, 1, 1, 0, 0, 0, 0, 0, 0, 0, 0, 0, 0, 1, 1, 1],\n",
    "[0, 1, 0, 0, 0, 0, 0, 0, 0, 0, 0, 0, 1, 0, 1, 0]]"
   ]
  },
  {
   "cell_type": "code",
   "execution_count": 98,
   "id": "58e34026",
   "metadata": {},
   "outputs": [
    {
     "data": {
      "image/png": "[encoded data removed]",
      "text/plain": [
       "<Figure size 432x288 with 1 Axes>"
      ]
     },
     "metadata": {
      "needs_background": "light"
     },
     "output_type": "display_data"
    }
   ],
   "source": [
    "visualizeField(NewField)"
   ]
  },
  {
   "cell_type": "code",
   "execution_count": 99,
   "id": "8fb4e47a",
   "metadata": {},
   "outputs": [
    {
     "name": "stdout",
     "output_type": "stream",
     "text": [
      "EPOCH 1\n"
     ]
    },
    {
     "data": {
      "image/png": "[encoded data removed]",
      "text/plain": [
       "<Figure size 432x288 with 1 Axes>"
      ]
     },
     "metadata": {
      "needs_background": "light"
     },
     "output_type": "display_data"
    },
    {
     "name": "stdout",
     "output_type": "stream",
     "text": [
      "EPOCH 2\n"
     ]
    },
    {
     "data": {
      "image/png": "[encoded data removed]",
      "text/plain": [
       "<Figure size 432x288 with 1 Axes>"
      ]
     },
     "metadata": {
      "needs_background": "light"
     },
     "output_type": "display_data"
    },
    {
     "name": "stdout",
     "output_type": "stream",
     "text": [
      "EPOCH 3\n"
     ]
    },
    {
     "data": {
      "image/png": "[encoded data removed]",
      "text/plain": [
       "<Figure size 432x288 with 1 Axes>"
      ]
     },
     "metadata": {
      "needs_background": "light"
     },
     "output_type": "display_data"
    },
    {
     "name": "stdout",
     "output_type": "stream",
     "text": [
      "EPOCH 4\n"
     ]
    },
    {
     "data": {
      "image/png": "[encoded data removed]",
      "text/plain": [
       "<Figure size 432x288 with 1 Axes>"
      ]
     },
     "metadata": {
      "needs_background": "light"
     },
     "output_type": "display_data"
    },
    {
     "name": "stdout",
     "output_type": "stream",
     "text": [
      "EPOCH 5\n"
     ]
    },
    {
     "data": {
      "image/png": "[encoded data removed]",
      "text/plain": [
       "<Figure size 432x288 with 1 Axes>"
      ]
     },
     "metadata": {
      "needs_background": "light"
     },
     "output_type": "display_data"
    },
    {
     "name": "stdout",
     "output_type": "stream",
     "text": [
      "EPOCH 6\n"
     ]
    },
    {
     "data": {
      "image/png": "[encoded data removed]",
      "text/plain": [
       "<Figure size 432x288 with 1 Axes>"
      ]
     },
     "metadata": {
      "needs_background": "light"
     },
     "output_type": "display_data"
    },
    {
     "name": "stdout",
     "output_type": "stream",
     "text": [
      "EPOCH 7\n"
     ]
    },
    {
     "data": {
      "image/png": "[encoded data removed]",
      "text/plain": [
       "<Figure size 432x288 with 1 Axes>"
      ]
     },
     "metadata": {
      "needs_background": "light"
     },
     "output_type": "display_data"
    },
    {
     "name": "stdout",
     "output_type": "stream",
     "text": [
      "EPOCH 8\n"
     ]
    },
    {
     "data": {
      "image/png": "[encoded data removed]",
      "text/plain": [
       "<Figure size 432x288 with 1 Axes>"
      ]
     },
     "metadata": {
      "needs_background": "light"
     },
     "output_type": "display_data"
    },
    {
     "name": "stdout",
     "output_type": "stream",
     "text": [
      "EPOCH 9\n"
     ]
    },
    {
     "data": {
      "image/png": "[encoded data removed]",
      "text/plain": [
       "<Figure size 432x288 with 1 Axes>"
      ]
     },
     "metadata": {
      "needs_background": "light"
     },
     "output_type": "display_data"
    }
   ],
   "source": [
    "# Epoch1 = epoch(NewField)\n",
    "# Epoch2 = epoch(Epoch1)\n",
    "# Epoch3 = epoch(Epoch2)\n",
    "\n",
    "\n",
    "print(\"EPOCH 1\")\n",
    "visualizeField(epoch(NewField))\n",
    "print(\"EPOCH 2\")\n",
    "visualizeField(epoch(NewField))\n",
    "print(\"EPOCH 3\")\n",
    "visualizeField(epoch(NewField))\n",
    "print(\"EPOCH 4\")\n",
    "visualizeField(epoch(NewField))\n",
    "print(\"EPOCH 5\")\n",
    "visualizeField(epoch(NewField))\n",
    "print(\"EPOCH 6\")\n",
    "visualizeField(epoch(NewField))\n",
    "print(\"EPOCH 7\")\n",
    "visualizeField(epoch(NewField))\n",
    "print(\"EPOCH 8\")\n",
    "visualizeField(epoch(NewField))\n",
    "print(\"EPOCH 9\")\n",
    "visualizeField(epoch(NewField))"
   ]
  },
  {
   "cell_type": "code",
   "execution_count": null,
   "id": "78d8e6b6",
   "metadata": {},
   "outputs": [],
   "source": []
  },
  {
   "cell_type": "code",
   "execution_count": null,
   "id": "85aa747c",
   "metadata": {},
   "outputs": [],
   "source": []
  },
  {
   "cell_type": "code",
   "execution_count": null,
   "id": "99ab07f4",
   "metadata": {},
   "outputs": [],
   "source": []
  }
 ],
 "metadata": {
  "kernelspec": {
   "display_name": "Python 3 (ipykernel)",
   "language": "python",
   "name": "python3"
  },
  "language_info": {
   "codemirror_mode": {
    "name": "ipython",
    "version": 3
   },
   "file_extension": ".py",
   "mimetype": "text/x-python",
   "name": "python",
   "nbconvert_exporter": "python",
   "pygments_lexer": "ipython3",
   "version": "3.8.12"
  }
 },
 "nbformat": 4,
 "nbformat_minor": 5
}
